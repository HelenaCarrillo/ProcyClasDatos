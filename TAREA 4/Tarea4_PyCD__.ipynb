{
  "nbformat": 4,
  "nbformat_minor": 0,
  "metadata": {
    "colab": {
      "provenance": []
    },
    "kernelspec": {
      "name": "python3",
      "display_name": "Python 3"
    },
    "language_info": {
      "name": "python"
    }
  },
  "cells": [
    {
      "cell_type": "code",
      "execution_count": null,
      "metadata": {
        "id": "w4up-D13_0V2"
      },
      "outputs": [],
      "source": [
        "import matplotlib.pyplot as plt\n",
        "import pandas as pd\n",
        "import tensorflow as tf\n",
        "from keras.models import Sequential\n",
        "from keras.layers import Dense, Dropout, Conv2D, MaxPool2D\n",
        "import keras.utils\n",
        "from keras.utils import to_categorical\n",
        "import numpy as np\n",
        "from sklearn.metrics import accuracy_score\n",
        "from keras.layers import Dense, Activation, Flatten\n",
        "import cv2"
      ]
    },
    {
      "cell_type": "code",
      "source": [
        "from keras.datasets import cifar10"
      ],
      "metadata": {
        "id": "BO0dN8VlA649"
      },
      "execution_count": null,
      "outputs": []
    },
    {
      "cell_type": "code",
      "source": [
        "(X_train, y_train), (X_test, y_test) = cifar10.load_data()"
      ],
      "metadata": {
        "id": "M0qdmdW-Fh9I",
        "colab": {
          "base_uri": "https://localhost:8080/"
        },
        "outputId": "52c84c08-155e-4bf6-9f6a-63d9b8d0bb28"
      },
      "execution_count": null,
      "outputs": [
        {
          "output_type": "stream",
          "name": "stdout",
          "text": [
            "Downloading data from https://www.cs.toronto.edu/~kriz/cifar-10-python.tar.gz\n",
            "170498071/170498071 [==============================] - 5s 0us/step\n"
          ]
        }
      ]
    },
    {
      "cell_type": "code",
      "source": [
        "X_train.shape"
      ],
      "metadata": {
        "colab": {
          "base_uri": "https://localhost:8080/"
        },
        "id": "kRKyaKfKFmsS",
        "outputId": "9f7d8e0a-7a75-47c2-f68c-ce8cdd7acb0e"
      },
      "execution_count": null,
      "outputs": [
        {
          "output_type": "execute_result",
          "data": {
            "text/plain": [
              "(50000, 32, 32, 3)"
            ]
          },
          "metadata": {},
          "execution_count": 4
        }
      ]
    },
    {
      "cell_type": "code",
      "source": [
        "plt.imshow(X_train[0])"
      ],
      "metadata": {
        "colab": {
          "base_uri": "https://localhost:8080/",
          "height": 447
        },
        "id": "Yffw-K_yF3Ug",
        "outputId": "3347c260-6569-41cc-dd85-7ce7bfe061a4"
      },
      "execution_count": null,
      "outputs": [
        {
          "output_type": "execute_result",
          "data": {
            "text/plain": [
              "<matplotlib.image.AxesImage at 0x7dc86c1a5d20>"
            ]
          },
          "metadata": {},
          "execution_count": 5
        },
        {
          "output_type": "display_data",
          "data": {
            "text/plain": [
              "<Figure size 640x480 with 1 Axes>"
            ],
            "image/png": "[encoded data removed]"
          },
          "metadata": {}
        }
      ]
    },
    {
      "cell_type": "code",
      "source": [
        "aux = cv2.resize(X_train[0], (20,20))"
      ],
      "metadata": {
        "id": "2xRI7h5uGBQ6"
      },
      "execution_count": null,
      "outputs": []
    },
    {
      "cell_type": "code",
      "source": [
        "X_train.shape"
      ],
      "metadata": {
        "colab": {
          "base_uri": "https://localhost:8080/"
        },
        "id": "DljOnWaoHFNq",
        "outputId": "ed931023-bc39-443e-eaf4-a9ce0cc92599"
      },
      "execution_count": null,
      "outputs": [
        {
          "output_type": "execute_result",
          "data": {
            "text/plain": [
              "(50000, 32, 32, 3)"
            ]
          },
          "metadata": {},
          "execution_count": 6
        }
      ]
    },
    {
      "cell_type": "code",
      "source": [
        "X_train_resize = np.ndarray(shape= (len(X_train), 20, 20, 3))\n",
        "X_train_resize.shape"
      ],
      "metadata": {
        "colab": {
          "base_uri": "https://localhost:8080/"
        },
        "id": "PZoZTG88JW8w",
        "outputId": "f149e7f0-74e1-4930-f68e-a4dbd8cd4ef4"
      },
      "execution_count": null,
      "outputs": [
        {
          "output_type": "execute_result",
          "data": {
            "text/plain": [
              "(50000, 20, 20, 3)"
            ]
          },
          "metadata": {},
          "execution_count": 4
        }
      ]
    },
    {
      "cell_type": "code",
      "source": [
        "for i in range(len(X_train)):\n",
        "  aux = cv2.resize(X_train[i], (20,20))\n",
        "  aux = aux/255\n",
        "  X_train_resize[i] =  aux"
      ],
      "metadata": {
        "id": "bLEHBq-_GtTV"
      },
      "execution_count": null,
      "outputs": []
    },
    {
      "cell_type": "code",
      "source": [
        "X_test_resize = np.ndarray(shape= (len(X_test), 20, 20, 3))\n",
        "X_test_resize.shape"
      ],
      "metadata": {
        "colab": {
          "base_uri": "https://localhost:8080/"
        },
        "id": "tny2ZgOBKBWw",
        "outputId": "70fbc85d-e9a2-44e8-e85a-b9c3b12fe4f2"
      },
      "execution_count": null,
      "outputs": [
        {
          "output_type": "execute_result",
          "data": {
            "text/plain": [
              "(10000, 20, 20, 3)"
            ]
          },
          "metadata": {},
          "execution_count": 56
        }
      ]
    },
    {
      "cell_type": "code",
      "source": [
        "for i in range(len(X_test)):\n",
        "  aux = cv2.resize(X_test[i], (20,20))\n",
        "  aux = aux/255\n",
        "  X_test_resize[i] =  aux"
      ],
      "metadata": {
        "id": "LwXgHeoiKgpp"
      },
      "execution_count": null,
      "outputs": []
    },
    {
      "cell_type": "code",
      "source": [
        "plt.imshow(X_train_resize[0])"
      ],
      "metadata": {
        "colab": {
          "base_uri": "https://localhost:8080/",
          "height": 447
        },
        "id": "O6joDrNuKsl7",
        "outputId": "efbfc90f-2842-44ab-ee05-97ca2193f041"
      },
      "execution_count": null,
      "outputs": [
        {
          "output_type": "execute_result",
          "data": {
            "text/plain": [
              "<matplotlib.image.AxesImage at 0x7dc86c140190>"
            ]
          },
          "metadata": {},
          "execution_count": 67
        },
        {
          "output_type": "display_data",
          "data": {
            "text/plain": [
              "<Figure size 640x480 with 1 Axes>"
            ],
            "image/png": "[encoded data removed]"
          },
          "metadata": {}
        }
      ]
    },
    {
      "cell_type": "code",
      "source": [
        "n_classes = 10\n",
        "Y_train = keras.utils.to_categorical(y_train, n_classes)\n",
        "Y_test = keras.utils.to_categorical(y_test, n_classes)"
      ],
      "metadata": {
        "id": "L0jynOJuKqHD"
      },
      "execution_count": null,
      "outputs": []
    },
    {
      "cell_type": "code",
      "source": [
        "X_train_resize = X_train_resize.reshape(X_train.shape[0], 20, 20, 3)\n",
        "X_test_resize = X_test_resize.reshape(X_test.shape[0], 20, 20, 3)\n",
        "\n",
        "X_train_resize = X_train_resize.astype('float32')\n",
        "X_test_resize = X_test_resize.astype('float32')"
      ],
      "metadata": {
        "id": "wGffOiy1KTL3"
      },
      "execution_count": null,
      "outputs": []
    },
    {
      "cell_type": "code",
      "source": [
        "# building a linear stack of layers with the sequential model\n",
        "model = Sequential()\n",
        "# CONVOLUTIONAL LAYER 1\n",
        "model.add(Conv2D(25, kernel_size=(3,3), strides=(1,1), padding='valid', activation='relu', input_shape=(20,20,3)))\n",
        "# POOLING LAYER 1\n",
        "model.add(MaxPool2D(pool_size=(1,1)))\n",
        "# CONVOLUTIONAL LAYER 2\n",
        "model.add(Conv2D(25, kernel_size=(3,3), strides=(1,1), padding='valid', activation='relu'))\n",
        "# POOLING LAYER 2\n",
        "model.add(MaxPool2D(pool_size=(2,2)))\n",
        "# CONVOLUTIONAL LAYER 3\n",
        "model.add(Conv2D(25, kernel_size=(3,3), strides=(1,1), padding='valid', activation='relu'))\n",
        "# POOLING LAYER 3\n",
        "model.add(MaxPool2D(pool_size=(3,3)))\n",
        "# flatten output of conv\n",
        "model.add(Flatten())\n",
        "\n",
        "#FULLY CONNECTED NETWORK\n",
        "\n",
        "# hidden layer\n",
        "model.add(Dense(100, activation='relu'))\n",
        "# output layer\n",
        "model.add(Dense(10, activation='softmax'))"
      ],
      "metadata": {
        "id": "RntyEQqP1kwa"
      },
      "execution_count": null,
      "outputs": []
    },
    {
      "cell_type": "code",
      "source": [
        "# compiling the sequential model\n",
        "model.compile(loss='categorical_crossentropy', metrics=['accuracy'], optimizer='adam')"
      ],
      "metadata": {
        "id": "fIpBJiXh1r-f"
      },
      "execution_count": null,
      "outputs": []
    },
    {
      "cell_type": "code",
      "source": [
        "# training the model for 10 epochs\n",
        "model.fit(X_train_resize, Y_train, batch_size=128, epochs=15, validation_data=(X_test_resize, Y_test))"
      ],
      "metadata": {
        "colab": {
          "base_uri": "https://localhost:8080/"
        },
        "id": "juFSGL941w7o",
        "outputId": "52d14f13-4200-43e9-eacc-ec5134e79349"
      },
      "execution_count": null,
      "outputs": [
        {
          "output_type": "stream",
          "name": "stdout",
          "text": [
            "Epoch 1/15\n",
            "391/391 [==============================] - 46s 109ms/step - loss: 1.7907 - accuracy: 0.3445 - val_loss: 1.5445 - val_accuracy: 0.4351\n",
            "Epoch 2/15\n",
            "391/391 [==============================] - 38s 98ms/step - loss: 1.4743 - accuracy: 0.4645 - val_loss: 1.4433 - val_accuracy: 0.4821\n",
            "Epoch 3/15\n",
            "391/391 [==============================] - 40s 102ms/step - loss: 1.3615 - accuracy: 0.5093 - val_loss: 1.3085 - val_accuracy: 0.5239\n",
            "Epoch 4/15\n",
            "391/391 [==============================] - 37s 96ms/step - loss: 1.2868 - accuracy: 0.5374 - val_loss: 1.3121 - val_accuracy: 0.5276\n",
            "Epoch 5/15\n",
            "391/391 [==============================] - 38s 97ms/step - loss: 1.2307 - accuracy: 0.5598 - val_loss: 1.2184 - val_accuracy: 0.5630\n",
            "Epoch 6/15\n",
            "391/391 [==============================] - 40s 101ms/step - loss: 1.1763 - accuracy: 0.5813 - val_loss: 1.1685 - val_accuracy: 0.5842\n",
            "Epoch 7/15\n",
            "391/391 [==============================] - 38s 98ms/step - loss: 1.1365 - accuracy: 0.5969 - val_loss: 1.1581 - val_accuracy: 0.5910\n",
            "Epoch 8/15\n",
            "391/391 [==============================] - 37s 95ms/step - loss: 1.0992 - accuracy: 0.6117 - val_loss: 1.1137 - val_accuracy: 0.6043\n",
            "Epoch 9/15\n",
            "391/391 [==============================] - 38s 98ms/step - loss: 1.0685 - accuracy: 0.6217 - val_loss: 1.1204 - val_accuracy: 0.6050\n",
            "Epoch 10/15\n",
            "391/391 [==============================] - 41s 104ms/step - loss: 1.0434 - accuracy: 0.6323 - val_loss: 1.0834 - val_accuracy: 0.6212\n",
            "Epoch 11/15\n",
            "391/391 [==============================] - 39s 99ms/step - loss: 1.0191 - accuracy: 0.6401 - val_loss: 1.0658 - val_accuracy: 0.6236\n",
            "Epoch 12/15\n",
            "391/391 [==============================] - 37s 96ms/step - loss: 0.9931 - accuracy: 0.6494 - val_loss: 1.0309 - val_accuracy: 0.6348\n",
            "Epoch 13/15\n",
            "391/391 [==============================] - 38s 96ms/step - loss: 0.9712 - accuracy: 0.6581 - val_loss: 1.0362 - val_accuracy: 0.6338\n",
            "Epoch 14/15\n",
            "391/391 [==============================] - 39s 99ms/step - loss: 0.9542 - accuracy: 0.6642 - val_loss: 1.0155 - val_accuracy: 0.6426\n",
            "Epoch 15/15\n",
            "391/391 [==============================] - 39s 101ms/step - loss: 0.9376 - accuracy: 0.6697 - val_loss: 1.0073 - val_accuracy: 0.6466\n"
          ]
        },
        {
          "output_type": "execute_result",
          "data": {
            "text/plain": [
              "<keras.src.callbacks.History at 0x7dc868de4f10>"
            ]
          },
          "metadata": {},
          "execution_count": 70
        }
      ]
    },
    {
      "cell_type": "code",
      "source": [
        "#scaled back"
      ],
      "metadata": {
        "id": "ClK88yctM6-B"
      },
      "execution_count": null,
      "outputs": []
    },
    {
      "cell_type": "code",
      "source": [],
      "metadata": {
        "id": "vTEZD427NEDt"
      },
      "execution_count": null,
      "outputs": []
    },
    {
      "cell_type": "code",
      "source": [],
      "metadata": {
        "id": "-SVli-1LM9bj"
      },
      "execution_count": null,
      "outputs": []
    },
    {
      "cell_type": "code",
      "source": [
        "n_classes = 10\n",
        "Y_train = keras.utils.to_categorical(y_train, n_classes)\n",
        "Y_test = keras.utils.to_categorical(y_test, n_classes)\n"
      ],
      "metadata": {
        "id": "WVemIk7TNFMs"
      },
      "execution_count": null,
      "outputs": []
    },
    {
      "cell_type": "code",
      "source": [
        "X_train = X_train.reshape(X_train.shape[0], 32, 32, 3)\n",
        "X_test = X_test.reshape(X_test.shape[0], 32, 32, 3)\n",
        "X_train = X_train.astype('float32')\n",
        "X_test = X_test.astype('float32')"
      ],
      "metadata": {
        "id": "PDX6wyAcb9Am"
      },
      "execution_count": null,
      "outputs": []
    },
    {
      "cell_type": "code",
      "source": [
        "X_train = X_train / 255\n",
        "X_test = X_test / 255"
      ],
      "metadata": {
        "id": "Be3BwnrZJ8--"
      },
      "execution_count": null,
      "outputs": []
    },
    {
      "cell_type": "code",
      "source": [
        "# building a linear stack of layers with the sequential model\n",
        "model = Sequential()\n",
        "# CONVOLUTIONAL LAYER 1\n",
        "model.add(Conv2D(25, kernel_size=(3,3), strides=(1,1), padding='valid', activation='relu', input_shape=(32,32,3)))\n",
        "# POOLING LAYER 1\n",
        "model.add(MaxPool2D(pool_size=(1,1)))\n",
        "# CONVOLUTIONAL LAYER 2\n",
        "model.add(Conv2D(25, kernel_size=(3,3), strides=(1,1), padding='valid', activation='relu'))\n",
        "# POOLING LAYER 2\n",
        "model.add(MaxPool2D(pool_size=(2,2)))\n",
        "# CONVOLUTIONAL LAYER 3\n",
        "model.add(Conv2D(25, kernel_size=(3,3), strides=(1,1), padding='valid', activation='relu'))\n",
        "# POOLING LAYER 3\n",
        "model.add(MaxPool2D(pool_size=(3,3)))\n",
        "# flatten output of conv\n",
        "model.add(Flatten())\n",
        "\n",
        "#FULLY CONNECTED NETWORK\n",
        "\n",
        "# hidden layer\n",
        "model.add(Dense(100, activation='relu'))\n",
        "# output layer\n",
        "model.add(Dense(10, activation='softmax'))"
      ],
      "metadata": {
        "id": "MBWebhMsNFMt"
      },
      "execution_count": null,
      "outputs": []
    },
    {
      "cell_type": "code",
      "source": [
        "# compiling the sequential model\n",
        "model.compile(loss='categorical_crossentropy', metrics=['accuracy'], optimizer='adam')"
      ],
      "metadata": {
        "id": "hUIpMK7PNFMt"
      },
      "execution_count": null,
      "outputs": []
    },
    {
      "cell_type": "code",
      "source": [
        "# training the model for 10 epochs\n",
        "model.fit(X_train, Y_train, batch_size=128, epochs=15, validation_data=(X_test, Y_test))"
      ],
      "metadata": {
        "colab": {
          "base_uri": "https://localhost:8080/"
        },
        "outputId": "64c1dc63-bf3d-4617-c958-89a6745ed154",
        "id": "4VYSCquUNFMt"
      },
      "execution_count": null,
      "outputs": [
        {
          "output_type": "stream",
          "name": "stdout",
          "text": [
            "Epoch 1/15\n",
            "391/391 [==============================] - 127s 319ms/step - loss: 1.6609 - accuracy: 0.4036 - val_loss: 1.3988 - val_accuracy: 0.5019\n",
            "Epoch 2/15\n",
            "391/391 [==============================] - 122s 313ms/step - loss: 1.3177 - accuracy: 0.5307 - val_loss: 1.2200 - val_accuracy: 0.5680\n",
            "Epoch 3/15\n",
            "391/391 [==============================] - 121s 310ms/step - loss: 1.1642 - accuracy: 0.5913 - val_loss: 1.1363 - val_accuracy: 0.5964\n",
            "Epoch 4/15\n",
            "391/391 [==============================] - 124s 318ms/step - loss: 1.0707 - accuracy: 0.6242 - val_loss: 1.0917 - val_accuracy: 0.6197\n",
            "Epoch 5/15\n",
            "391/391 [==============================] - 129s 331ms/step - loss: 1.0039 - accuracy: 0.6489 - val_loss: 1.0119 - val_accuracy: 0.6541\n",
            "Epoch 6/15\n",
            "391/391 [==============================] - 120s 307ms/step - loss: 0.9454 - accuracy: 0.6688 - val_loss: 0.9954 - val_accuracy: 0.6543\n",
            "Epoch 7/15\n",
            "391/391 [==============================] - 121s 310ms/step - loss: 0.8998 - accuracy: 0.6855 - val_loss: 0.9798 - val_accuracy: 0.6678\n",
            "Epoch 8/15\n",
            "391/391 [==============================] - 121s 310ms/step - loss: 0.8620 - accuracy: 0.6984 - val_loss: 0.9601 - val_accuracy: 0.6726\n",
            "Epoch 9/15\n",
            "391/391 [==============================] - 121s 309ms/step - loss: 0.8249 - accuracy: 0.7100 - val_loss: 0.9023 - val_accuracy: 0.6915\n",
            "Epoch 10/15\n",
            "391/391 [==============================] - 121s 309ms/step - loss: 0.7956 - accuracy: 0.7221 - val_loss: 0.8880 - val_accuracy: 0.6972\n",
            "Epoch 11/15\n",
            "391/391 [==============================] - 126s 322ms/step - loss: 0.7693 - accuracy: 0.7318 - val_loss: 0.8866 - val_accuracy: 0.6958\n",
            "Epoch 12/15\n",
            "391/391 [==============================] - 127s 326ms/step - loss: 0.7427 - accuracy: 0.7400 - val_loss: 0.8733 - val_accuracy: 0.6971\n",
            "Epoch 13/15\n",
            "391/391 [==============================] - 118s 301ms/step - loss: 0.7200 - accuracy: 0.7468 - val_loss: 0.8658 - val_accuracy: 0.7068\n",
            "Epoch 14/15\n",
            "391/391 [==============================] - 124s 316ms/step - loss: 0.7024 - accuracy: 0.7542 - val_loss: 0.8542 - val_accuracy: 0.7144\n",
            "Epoch 15/15\n",
            "391/391 [==============================] - 120s 308ms/step - loss: 0.6753 - accuracy: 0.7645 - val_loss: 0.8560 - val_accuracy: 0.7115\n"
          ]
        },
        {
          "output_type": "execute_result",
          "data": {
            "text/plain": [
              "<keras.src.callbacks.History at 0x7e4f895921a0>"
            ]
          },
          "metadata": {},
          "execution_count": 14
        }
      ]
    },
    {
      "cell_type": "code",
      "source": [
        "model.get_metrics_result()"
      ],
      "metadata": {
        "colab": {
          "base_uri": "https://localhost:8080/"
        },
        "id": "xT9VErisyat3",
        "outputId": "aa95ddbb-73b2-4746-82d7-479d77eef3b8"
      },
      "execution_count": null,
      "outputs": [
        {
          "output_type": "execute_result",
          "data": {
            "text/plain": [
              "{'loss': <tf.Tensor: shape=(), dtype=float32, numpy=0.93647754>,\n",
              " 'accuracy': <tf.Tensor: shape=(), dtype=float32, numpy=0.6905>}"
            ]
          },
          "metadata": {},
          "execution_count": 56
        }
      ]
    }
  ]
}